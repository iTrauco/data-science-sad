{
 "cells": [
  {
   "cell_type": "markdown",
   "id": "4361c017-df2f-47e4-819e-25228d9624a1",
   "metadata": {},
   "source": [
    "## Traffic Flow State Analysis\n",
    "\n",
    "Traffic flow exhibits three distinct phases based on density-velocity relationships: free flow (v = vmax), synchronized flow (reduced velocity with increasing density), and congested flow (stop-and-go waves).\n",
    "\n",
    "```mermaid\n",
    "stateDiagram-v2\n",
    "    [*] --> FreeFlow: Low density\n",
    "    FreeFlow --> Synchronized: Density threshold\n",
    "    Synchronized --> Congested: Critical density\n",
    "    Congested --> Synchronized: Density reduction\n",
    "    Synchronized --> FreeFlow: Traffic clears\n",
    "    \n",
    "    FreeFlow: v = 65-80 mph\n",
    "    Synchronized: v = 35-65 mph\n",
    "    Congested: v = 0-35 mph\n",
    "    \n",
    "    note right of Congested: Shockwave formation\n",
    "```\n",
    "\n",
    "Fundamental relationship: q = k × v where q = flow (vehicles/hour), k = density (vehicles/mile), v = velocity (mph)"
   ]
  },
  {
   "cell_type": "code",
   "execution_count": null,
   "id": "da2f97c6-c0a6-4ca3-9586-9d528c1fc36d",
   "metadata": {},
   "outputs": [],
   "source": []
  }
 ],
 "metadata": {
  "kernelspec": {
   "display_name": "Python 3 (ipykernel)",
   "language": "python",
   "name": "python3"
  },
  "language_info": {
   "codemirror_mode": {
    "name": "ipython",
    "version": 3
   },
   "file_extension": ".py",
   "mimetype": "text/x-python",
   "name": "python",
   "nbconvert_exporter": "python",
   "pygments_lexer": "ipython3",
   "version": "3.11.13"
  }
 },
 "nbformat": 4,
 "nbformat_minor": 5
}
