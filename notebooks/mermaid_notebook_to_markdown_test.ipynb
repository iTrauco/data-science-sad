{
 "cells": [
  {
   "cell_type": "markdown",
   "id": "4361c017-df2f-47e4-819e-25228d9624a1",
   "metadata": {},
   "source": [
    "## Traffic Flow State Analysis\n",
    "\n",
    "Traffic flow exhibits three distinct phases based on density-velocity relationships: free flow (v = vmax), synchronized flow (reduced velocity with increasing density), and congested flow (stop-and-go waves).\n",
    "\n",
    "```mermaid\n",
    "stateDiagram-v2\n",
    "    [*] --> FreeFlow: Low density\n",
    "    FreeFlow --> Synchronized: Density threshold\n",
    "    Synchronized --> Congested: Critical density\n",
    "    Congested --> Synchronized: Density reduction\n",
    "    Synchronized --> FreeFlow: Traffic clears\n",
    "    \n",
    "    FreeFlow: v = 65-80 mph\n",
    "    Synchronized: v = 35-65 mph\n",
    "    Congested: v = 0-35 mph\n",
    "    \n",
    "    note right of Congested: Shockwave formation\n",
    "```\n",
    "\n",
    "Fundamental relationship: q = k × v where q = flow (vehicles/hour), k = density (vehicles/mile), v = velocity (mph)"
   ]
  },
  {
   "cell_type": "markdown",
   "id": "852e6aa2-6ef2-453d-9424-f4f33a9e2bd2",
   "metadata": {},
   "source": [
    "## Multi-Object Detection Pipeline\n",
    "\n",
    "YOLO-based detection pipeline processes video frames at 30 FPS, achieving mAP@0.5 = 0.78 for vehicle detection across multiple classes.\n",
    "\n",
    "```mermaid\n",
    "flowchart LR\n",
    "    A[Video Frame] --> B[Preprocessing]\n",
    "    B --> C[YOLO Detector]\n",
    "    C --> D{Confidence > 0.5?}\n",
    "    D -->|Yes| E[NMS]\n",
    "    D -->|No| F[Discard]\n",
    "    E --> G[Kalman Filter]\n",
    "    G --> H[Track Association]\n",
    "    H --> I[Output Tracks]\n",
    "    \n",
    "    style C fill:#a5d6a7\n",
    "    style G fill:#90caf9\n",
    "    style I fill:#ffcc80\n",
    "```\n",
    "\n",
    "Detection classes: Car (0.85), Truck (0.78), Bus (0.81), Motorcycle (0.72), Bicycle (0.69)"
   ]
  },
  {
   "cell_type": "markdown",
   "id": "a5cab568-b750-45fe-878d-b5a743912339",
   "metadata": {},
   "source": [
    "## Camera Calibration for Traffic Monitoring\n",
    "\n",
    "Intrinsic and extrinsic calibration achieves reprojection error < 0.5 pixels using Zhang's method with checkerboard patterns.\n",
    "\n",
    "```mermaid\n",
    "graph TD\n",
    "    A[Checkerboard Images] --> B[Corner Detection]\n",
    "    B --> C[2D-3D Correspondences]\n",
    "    C --> D[Initial Guess]\n",
    "    D --> E[Optimization Loop]\n",
    "    E --> F{RMSE < 0.5px?}\n",
    "    F -->|No| G[Refine Parameters]\n",
    "    G --> E\n",
    "    F -->|Yes| H[K, R, t matrices]\n",
    "    H --> I[Undistort Images]\n",
    "    \n",
    "    style A fill:#e1bee7\n",
    "    style H fill:#c5e1a5\n",
    "    style I fill:#81c784\n",
    "```\n",
    "\n",
    "Calibration matrix K contains: focal length (fx=1832.4, fy=1835.7), principal point (cx=956.2, cy=542.8)"
   ]
  },
  {
   "cell_type": "code",
   "execution_count": null,
   "id": "389a248d-f46c-45c5-8fd6-8db717c40449",
   "metadata": {},
   "outputs": [],
   "source": []
  }
 ],
 "metadata": {
  "kernelspec": {
   "display_name": "Python 3 (ipykernel)",
   "language": "python",
   "name": "python3"
  },
  "language_info": {
   "codemirror_mode": {
    "name": "ipython",
    "version": 3
   },
   "file_extension": ".py",
   "mimetype": "text/x-python",
   "name": "python",
   "nbconvert_exporter": "python",
   "pygments_lexer": "ipython3",
   "version": "3.11.13"
  }
 },
 "nbformat": 4,
 "nbformat_minor": 5
}
